{
 "cells": [
  {
   "cell_type": "code",
   "execution_count": 1,
   "id": "0bed1d69-1984-4608-918d-3fca2d6c3769",
   "metadata": {},
   "outputs": [
    {
     "name": "stdout",
     "output_type": "stream",
     "text": [
      "Abrindo arquivo: c3e004.edr\n"
     ]
    },
    {
     "ename": "KeyboardInterrupt",
     "evalue": "",
     "output_type": "error",
     "traceback": [
      "\u001b[0;31m---------------------------------------------------------------------------\u001b[0m",
      "\u001b[0;31mKeyboardInterrupt\u001b[0m                         Traceback (most recent call last)",
      "Input \u001b[0;32mIn [1]\u001b[0m, in \u001b[0;36m<cell line: 68>\u001b[0;34m()\u001b[0m\n\u001b[1;32m     75\u001b[0m \u001b[38;5;66;03m# Executar função process_file para cada arquivo EDR em série\u001b[39;00m\n\u001b[1;32m     76\u001b[0m \u001b[38;5;28;01mfor\u001b[39;00m file \u001b[38;5;129;01min\u001b[39;00m edr_files:\n\u001b[0;32m---> 77\u001b[0m     \u001b[43mprocessor\u001b[49m\u001b[38;5;241;43m.\u001b[39;49m\u001b[43mprocess_file\u001b[49m\u001b[43m(\u001b[49m\u001b[43mfile\u001b[49m\u001b[43m)\u001b[49m\n",
      "Input \u001b[0;32mIn [1]\u001b[0m, in \u001b[0;36mEDRProcessor.process_file\u001b[0;34m(self, filename)\u001b[0m\n\u001b[1;32m     32\u001b[0m \u001b[38;5;28;01mwhile\u001b[39;00m \u001b[38;5;28;01mTrue\u001b[39;00m:\n\u001b[1;32m     33\u001b[0m     \u001b[38;5;28;01mtry\u001b[39;00m:\n\u001b[1;32m     34\u001b[0m         \u001b[38;5;66;03m# Ler 256 palavras (512 bytes) para cada espectro\u001b[39;00m\n\u001b[0;32m---> 35\u001b[0m         data \u001b[38;5;241m=\u001b[39m \u001b[43mnp\u001b[49m\u001b[38;5;241;43m.\u001b[39;49m\u001b[43mfromfile\u001b[49m\u001b[43m(\u001b[49m\u001b[43mf\u001b[49m\u001b[43m,\u001b[49m\u001b[43m \u001b[49m\u001b[43mdtype\u001b[49m\u001b[38;5;241;43m=\u001b[39;49m\u001b[43mnp\u001b[49m\u001b[38;5;241;43m.\u001b[39;49m\u001b[43mint16\u001b[49m\u001b[43m,\u001b[49m\u001b[43m \u001b[49m\u001b[43mcount\u001b[49m\u001b[38;5;241;43m=\u001b[39;49m\u001b[38;5;241;43m256\u001b[39;49m\u001b[43m)\u001b[49m\n\u001b[1;32m     36\u001b[0m         spectra\u001b[38;5;241m.\u001b[39mappend(data)\n\u001b[1;32m     37\u001b[0m     \u001b[38;5;28;01mexcept\u001b[39;00m \u001b[38;5;167;01mValueError\u001b[39;00m:\n\u001b[1;32m     38\u001b[0m         \u001b[38;5;66;03m# Quando a leitura falha, sair do loop\u001b[39;00m\n",
      "\u001b[0;31mKeyboardInterrupt\u001b[0m: "
     ]
    }
   ],
   "source": [
    "import os\n",
    "import numpy as np\n",
    "import matplotlib.pyplot as plt\n",
    "import time\n",
    "\n",
    "# Definir diretório de arquivos EDR\n",
    "edr_dir = \"/Users/hugomelo/Downloads/Galileo/Europa/edr/\"\n",
    "\n",
    "# Definir faixa espectral de interesse\n",
    "min_freq = 1000\n",
    "max_freq = 2000\n",
    "\n",
    "# Lista de elementos químicos básicos para a vida\n",
    "elements = ['carbon', 'hydrogen', 'nitrogen', 'oxygen', 'phosphorus', 'sulfur']\n",
    "\n",
    "class EDRProcessor:\n",
    "    def __init__(self, edr_dir, min_freq, max_freq, elements):\n",
    "        self.edr_dir = edr_dir\n",
    "        self.min_freq = min_freq\n",
    "        self.max_freq = max_freq\n",
    "        self.elements = elements\n",
    "\n",
    "    def process_file(self, filename):\n",
    "        # Extrair dados do arquivo EDR\n",
    "        start_time = time.time()\n",
    "        print(f\"Abrindo arquivo: {filename}\")\n",
    "        with open(os.path.join(self.edr_dir, filename), \"rb\") as f:\n",
    "            # Saltar as primeiras 800 palavras (2048 bytes)\n",
    "            f.seek(2048)\n",
    "            # Ler espectros\n",
    "            spectra = []\n",
    "            while True:\n",
    "                try:\n",
    "                    # Ler 256 palavras (512 bytes) para cada espectro\n",
    "                    data = np.fromfile(f, dtype=np.int16, count=256)\n",
    "                    spectra.append(data)\n",
    "                except ValueError:\n",
    "                    # Quando a leitura falha, sair do loop\n",
    "                    break\n",
    "            # Transformar lista de espectros em um array NumPy\n",
    "            spectra = np.array(spectra)\n",
    "\n",
    "        # Calcular a FFT dos espectros\n",
    "        freq_fft = np.fft.rfftfreq(spectra.shape[1], d=1/256)\n",
    "        spectra_fft = np.fft.rfft(spectra, axis=1)\n",
    "\n",
    "        # Loop pelos elementos químicos detectados\n",
    "        for element in self.elements:\n",
    "            # Selecionar índices de espectros do elemento químico atual\n",
    "            indices = np.where([element in s.decode() for s in spectra[:,0]])[0]\n",
    "            if len(indices) > 0:\n",
    "                # Calcular a média dos espectros dentro da janela espectral de interesse\n",
    "                mean_spectrum = np.mean(spectra_fft[indices][:,self.min_freq:self.max_freq], axis=0)\n",
    "                # Calcular a magnitude do espectro médio\n",
    "                magnitude = np.abs(mean_spectrum)\n",
    "                # Plotar o espectro médio para o elemento químico atual\n",
    "                plt.plot(freq_fft[self.min_freq:self.max_freq], magnitude, label=element)\n",
    "\n",
    "        # Configurar o gráfico\n",
    "        plt.title(filename)\n",
    "        plt.xlabel(\"Frequência (cm^-1)\")\n",
    "        plt.ylabel(\"Magnitude\")\n",
    "        plt.legend()\n",
    "        plt.show()\n",
    "        end_time = time.time()\n",
    "        print(f\"Tempo de processamento do arquivo {filename}: {end_time - start_time:.2f} s\")\n",
    "\n",
    "if __name__ == \"__main__\":\n",
    "    # Criar instância da classe\n",
    "    processor = EDRProcessor(edr_dir, min_freq, max_freq, elements)\n",
    "\n",
    "    # Obter lista de arquivos EDR no diretório\n",
    "    edr_files = [f for f in os.listdir(edr_dir) if f.endswith(\".edr\")]\n",
    "\n",
    "    # Executar função process_file para cada arquivo EDR em série\n",
    "    for file in edr_files:\n",
    "        processor.process_file(file)\n"
   ]
  },
  {
   "cell_type": "code",
   "execution_count": null,
   "id": "45853902-65be-45d9-a23a-b73abced1ddd",
   "metadata": {},
   "outputs": [],
   "source": []
  }
 ],
 "metadata": {
  "kernelspec": {
   "display_name": "Python 3 (ipykernel)",
   "language": "python",
   "name": "python3"
  },
  "language_info": {
   "codemirror_mode": {
    "name": "ipython",
    "version": 3
   },
   "file_extension": ".py",
   "mimetype": "text/x-python",
   "name": "python",
   "nbconvert_exporter": "python",
   "pygments_lexer": "ipython3",
   "version": "3.9.12"
  }
 },
 "nbformat": 4,
 "nbformat_minor": 5
}
